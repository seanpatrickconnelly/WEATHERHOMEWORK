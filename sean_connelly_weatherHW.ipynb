{
 "cells": [
  {
   "cell_type": "markdown",
   "metadata": {},
   "source": [
    "Hello, TAs. I enjoyed this assignment a lot. My code, below, does not work 100% but it's really close. IMHO. Thanks again for all you guys do!"
   ]
  },
  {
   "cell_type": "markdown",
   "metadata": {},
   "source": [
    "# WeatherPy\n",
    "----\n",
    "\n",
    "#### Note\n",
    "* Instructions have been included for each segment. You do not have to follow them exactly, but they are included to help you think through the steps."
   ]
  },
  {
   "cell_type": "code",
   "execution_count": 1,
   "metadata": {},
   "outputs": [
    {
     "name": "stdout",
     "output_type": "stream",
     "text": [
      "Requirement already satisfied: citipy in c:\\users\\seanp\\anaconda3\\lib\\site-packages (0.0.5)\n",
      "Requirement already satisfied: kdtree>=0.12 in c:\\users\\seanp\\anaconda3\\lib\\site-packages (from citipy) (0.16)\n"
     ]
    }
   ],
   "source": [
    "! pip install citipy"
   ]
  },
  {
   "cell_type": "code",
   "execution_count": 2,
   "metadata": {
    "scrolled": true
   },
   "outputs": [],
   "source": [
    "# Dependencies and Setup\n",
    "import matplotlib.pyplot as plt\n",
    "import pandas as pd\n",
    "import numpy as np\n",
    "import requests\n",
    "import time\n",
    "\n",
    "# Import API key\n",
    "from api_keys import api_key\n",
    "\n",
    "# Incorporated citipy to determine city based on latitude and longitude\n",
    "from citipy import citipy\n",
    "\n",
    "# Output File (CSV)\n",
    "output_data_file = \"output_data/cities.csv\"\n",
    "\n",
    "# Range of latitudes and longitudes\n",
    "lat_range = (-90, 90)\n",
    "lng_range = (-180, 180)"
   ]
  },
  {
   "cell_type": "markdown",
   "metadata": {},
   "source": [
    "## Generate Cities List"
   ]
  },
  {
   "cell_type": "code",
   "execution_count": 3,
   "metadata": {},
   "outputs": [
    {
     "data": {
      "text/plain": [
       "616"
      ]
     },
     "execution_count": 3,
     "metadata": {},
     "output_type": "execute_result"
    }
   ],
   "source": [
    "# List for holding lat_lngs and cities\n",
    "lat_lngs = []\n",
    "cities = []\n",
    "\n",
    "# Create a set of random lat and lng combinations\n",
    "lats = np.random.uniform(low=-90.000, high=90.000, size=1500)\n",
    "lngs = np.random.uniform(low=-180.000, high=180.000, size=1500)\n",
    "lat_lngs = zip(lats, lngs)\n",
    "\n",
    "# Identify nearest city for each lat, lng combination\n",
    "for lat_lng in lat_lngs:\n",
    "    city = citipy.nearest_city(lat_lng[0], lat_lng[1]).city_name\n",
    "    \n",
    "    # If the city is unique, then add it to a our cities list\n",
    "    if city not in cities:\n",
    "        cities.append(city)\n",
    "\n",
    "# Print the city count to confirm sufficient count\n",
    "len(cities)"
   ]
  },
  {
   "cell_type": "markdown",
   "metadata": {},
   "source": [
    "### Perform API Calls\n",
    "* Perform a weather check on each city using a series of successive API calls.\n",
    "* Include a print log of each city as it'sbeing processed (with the city number and city name).\n"
   ]
  },
  {
   "cell_type": "code",
   "execution_count": 8,
   "metadata": {},
   "outputs": [],
   "source": [
    "cities = ['chicago','boston',]"
   ]
  },
  {
   "cell_type": "code",
   "execution_count": null,
   "metadata": {},
   "outputs": [],
   "source": [
    "# * Temperature (F) vs. Latitude ... main.temp    Temperature. Unit Default: Kelvin, Metric: Celsius, Imperial: Fahrenheit.\n",
    "# * Humidity (%) vs. Latitude .... main.humidity   Humidity, %\n",
    "# * Cloudiness (%) vs. Latitude  ...   clouds.all      Cloudiness, %\n",
    "# * Wind Speed (mph) vs. Latitude   wind.speed     Wind speed.Unit Default:meter/sec,Metric: meter/sec,Imperial: miles/hour.\n",
    "# name\n",
    "# # # set up lists to hold reponse info\n",
    "# lat = []\n",
    "# temp = []\n",
    "\n",
    "# # Loop through the list of cities and perform a request for data on each\n",
    "# for city in cities:\n",
    "#     response = requests.get(query_url + city).json()\n",
    "#     lat.append(response['coord']['lat'])\n",
    "#     temp.append(response['main']['temp'])\n"
   ]
  },
  {
   "cell_type": "code",
   "execution_count": 9,
   "metadata": {},
   "outputs": [],
   "source": [
    "# setup lists to hold response data\n",
    "max_temp = []\n",
    "wind_speed = []\n",
    "humidity = []\n",
    "lat = []\n",
    "cloudiness = []\n",
    "lng = []\n",
    "country = []\n",
    "date = []\n",
    "\n"
   ]
  },
  {
   "cell_type": "code",
   "execution_count": 13,
   "metadata": {},
   "outputs": [
    {
     "name": "stdout",
     "output_type": "stream",
     "text": [
      "Missing field/result... skipping.\n",
      "------------\n"
     ]
    }
   ],
   "source": [
    "base_url = 'http://api.openweathermap.org/data/2.5/weather?'\n",
    "\n",
    "try:\n",
    "    for city in cities:\n",
    "        loop_url = f\"{base_url}app_id={api_key}&={city}\"\n",
    "        response = requests.get(loop_url).json()\n",
    "    \n",
    "        # each time thru, append data to our empty lists. . .\n",
    "    \n",
    "        max_temp.append(response['main']['temp_max'])\n",
    "        wind_speed.append(response['wind']['speed'])\n",
    "        humidity.append(response['main']['humidity'])\n",
    "        lat.append(response['coord']['lat'])\n",
    "        cloudiness.append(response['clouds']['clouds.all'])\n",
    "        lng.append(response['coord']['lon'])\n",
    "        date.append(response['lastupdate']['value'])\n",
    "        \n",
    "except (KeyError, IndexError):\n",
    "        print(\"Missing field/result... skipping.\")\n",
    "        print(\"------------\")\n",
    "        \n",
    "        time.sleep(1)"
   ]
  },
  {
   "cell_type": "markdown",
   "metadata": {},
   "source": [
    "### Convert Raw Data to DataFrame\n",
    "* Export the city data into a .csv.\n",
    "* Display the DataFrame"
   ]
  },
  {
   "cell_type": "code",
   "execution_count": null,
   "metadata": {},
   "outputs": [],
   "source": [
    "#create and display the dataframe\n",
    "weather_df = pd.DataFrame({\n",
    "    \"Temperature\": [max_temp],\n",
    "    \"Wind Speed\": [wind_speed],\n",
    "    \"Humidity\": [humidity],\n",
    "    \"Latitide\":[lat],\n",
    "    \"Cloudiness\":[cloudiness],\n",
    "    \"Longitude\":[lng],\n",
    "    \"country\":[country]\n",
    "})\n",
    "weather_df"
   ]
  },
  {
   "cell_type": "code",
   "execution_count": null,
   "metadata": {},
   "outputs": [],
   "source": [
    "# export to .csv\n",
    "weather_df.to_csv(\"Output/weather.csv\", index=False, header=True)"
   ]
  },
  {
   "cell_type": "markdown",
   "metadata": {},
   "source": [
    "### Plotting the Data\n",
    "* Use proper labeling of the plots using plot titles (including date of analysis) and axes labels.\n",
    "* Save the plotted figures as .pngs."
   ]
  },
  {
   "cell_type": "markdown",
   "metadata": {},
   "source": [
    "#### Latitude vs. Temperature Plot"
   ]
  },
  {
   "cell_type": "code",
   "execution_count": null,
   "metadata": {},
   "outputs": [],
   "source": [
    "# either create variables to hold latitide and temp as a df, dictionary or list used for x and y\n",
    "# or can i just cite the dataframe columns i want as x and y with .loc or some other means?\n",
    "# if these actually drew instead of abended I might add limits to the x and y axis...\n",
    "\n",
    "plt.title(\"Latitude & Temperature\")\n",
    "plt.xlabel(\"Temperature\")\n",
    "plt.ylabel(\"Latitude\")\n",
    "plt.grid(True)\n",
    "plt.legend(loc=\"best\")\n",
    "\n",
    "plt.savefig(\"Output/LATvTEMP.png\")\n",
    "plt.scatter(weather_df['Temperature'], weather_df[\"Latitude\"], marker=\"o\", color=\"blue\", edgecolors=\"red\", s=5, alpha=0.5)\n",
    "plt.show()"
   ]
  },
  {
   "cell_type": "markdown",
   "metadata": {},
   "source": [
    "#### Latitude vs. Humidity Plot"
   ]
  },
  {
   "cell_type": "code",
   "execution_count": null,
   "metadata": {},
   "outputs": [],
   "source": [
    "plt.title(\"Latitude & Humidity\")\n",
    "plt.xlabel(\"Humidity\")\n",
    "plt.ylabel(\"Latitude\")\n",
    "plt.grid(True)\n",
    "plt.legend(loc=\"best\")\n",
    "\n",
    "plt.savefig(\"Output/LATvHUMID.png\")\n",
    "plt.scatter(weather_df['Humidity'], weather_df[\"Latitude\"], marker=\"o\", color=\"blue\", edgecolors=\"red\", s=5, alpha=0.5)\n",
    "plt.show()"
   ]
  },
  {
   "cell_type": "markdown",
   "metadata": {},
   "source": [
    "#### Latitude vs. Cloudiness Plot"
   ]
  },
  {
   "cell_type": "code",
   "execution_count": null,
   "metadata": {},
   "outputs": [],
   "source": [
    "plt.title(\"Latitude & Cloudiness\")\n",
    "plt.xlabel(\"Cloudiness\")\n",
    "plt.ylabel(\"Latitude\")\n",
    "plt.grid(True)\n",
    "plt.legend(loc=\"best\")\n",
    "\n",
    "plt.savefig(\"Output/LATvCLOUDY.png\")\n",
    "plt.scatter(weather_df['Cloudiness'], weather_df[\"Latitude\"], marker=\"o\", color=\"blue\", edgecolors=\"red\", s=5, alpha=0.5)\n",
    "plt.show()"
   ]
  },
  {
   "cell_type": "markdown",
   "metadata": {},
   "source": [
    "#### Latitude vs. Wind Speed Plot"
   ]
  },
  {
   "cell_type": "code",
   "execution_count": null,
   "metadata": {},
   "outputs": [],
   "source": [
    "plt.title(\"Latitude & Wind Speed\")\n",
    "plt.xlabel(\"Wind Speed\")\n",
    "plt.ylabel(\"Latitude\")\n",
    "plt.grid(True)\n",
    "plt.legend(loc=\"best\")\n",
    "\n",
    "plt.savefig(\"Output/LATvWNDSPD.png\")\n",
    "plt.scatter(weather_df['Wind Speed'], weather_df[\"Latitude\"], marker=\"o\", color=\"blue\", edgecolors=\"red\", s=5, alpha=0.5)\n",
    "plt.show()"
   ]
  }
 ],
 "metadata": {
  "anaconda-cloud": {},
  "kernel_info": {
   "name": "python3"
  },
  "kernelspec": {
   "display_name": "Python 3",
   "language": "python",
   "name": "python3"
  },
  "language_info": {
   "codemirror_mode": {
    "name": "ipython",
    "version": 3
   },
   "file_extension": ".py",
   "mimetype": "text/x-python",
   "name": "python",
   "nbconvert_exporter": "python",
   "pygments_lexer": "ipython3",
   "version": "3.7.3"
  },
  "nteract": {
   "version": "0.12.3"
  }
 },
 "nbformat": 4,
 "nbformat_minor": 2
}
